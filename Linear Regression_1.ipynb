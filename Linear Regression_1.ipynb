{
 "cells": [
  {
   "cell_type": "markdown",
   "metadata": {},
   "source": [
    "# Linear Regression\n"
   ]
  },
  {
   "cell_type": "code",
   "execution_count": 1,
   "metadata": {},
   "outputs": [],
   "source": [
    "%matplotlib inline\n",
    "import numpy as np\n",
    "import matplotlib.pyplot as plt"
   ]
  },
  {
   "cell_type": "markdown",
   "metadata": {},
   "source": [
    "## 1. 線性迴歸基本概念"
   ]
  },
  {
   "cell_type": "markdown",
   "metadata": {},
   "source": [
    "#### 直線\n",
    "\n",
    "$$f(x) = 1.2x + 0.8$$\n",
    "\n"
   ]
  },
  {
   "cell_type": "code",
   "execution_count": 2,
   "metadata": {},
   "outputs": [
    {
     "name": "stdout",
     "output_type": "stream",
     "text": [
      "[0.         0.10204082 0.20408163 0.30612245 0.40816327 0.51020408\n",
      " 0.6122449  0.71428571 0.81632653 0.91836735 1.02040816 1.12244898\n",
      " 1.2244898  1.32653061 1.42857143 1.53061224 1.63265306 1.73469388\n",
      " 1.83673469 1.93877551 2.04081633 2.14285714 2.24489796 2.34693878\n",
      " 2.44897959 2.55102041 2.65306122 2.75510204 2.85714286 2.95918367\n",
      " 3.06122449 3.16326531 3.26530612 3.36734694 3.46938776 3.57142857\n",
      " 3.67346939 3.7755102  3.87755102 3.97959184 4.08163265 4.18367347\n",
      " 4.28571429 4.3877551  4.48979592 4.59183673 4.69387755 4.79591837\n",
      " 4.89795918 5.        ]\n"
     ]
    }
   ],
   "source": [
    "#準備 50 個點\n",
    "#5-0/50 = 0.1 +....\n",
    "# 0~5線性切割\n",
    "x = np.linspace(0, 5, 50)\n",
    "print(x)"
   ]
  },
  {
   "cell_type": "code",
   "execution_count": 3,
   "metadata": {},
   "outputs": [
    {
     "data": {
      "text/plain": [
       "array([0.8       , 0.92244898, 1.04489796, 1.16734694, 1.28979592,\n",
       "       1.4122449 , 1.53469388, 1.65714286, 1.77959184, 1.90204082,\n",
       "       2.0244898 , 2.14693878, 2.26938776, 2.39183673, 2.51428571,\n",
       "       2.63673469, 2.75918367, 2.88163265, 3.00408163, 3.12653061,\n",
       "       3.24897959, 3.37142857, 3.49387755, 3.61632653, 3.73877551,\n",
       "       3.86122449, 3.98367347, 4.10612245, 4.22857143, 4.35102041,\n",
       "       4.47346939, 4.59591837, 4.71836735, 4.84081633, 4.96326531,\n",
       "       5.08571429, 5.20816327, 5.33061224, 5.45306122, 5.5755102 ,\n",
       "       5.69795918, 5.82040816, 5.94285714, 6.06530612, 6.1877551 ,\n",
       "       6.31020408, 6.43265306, 6.55510204, 6.67755102, 6.8       ])"
      ]
     },
     "execution_count": 3,
     "metadata": {},
     "output_type": "execute_result"
    }
   ],
   "source": [
    "y = 1.2*x + 0.8\n",
    "y"
   ]
  },
  {
   "cell_type": "code",
   "execution_count": 4,
   "metadata": {},
   "outputs": [
    {
     "data": {
      "text/plain": [
       "[<matplotlib.lines.Line2D at 0x20681790df0>]"
      ]
     },
     "execution_count": 4,
     "metadata": {},
     "output_type": "execute_result"
    },
    {
     "data": {
      "image/png": "[encoded data removed]",
      "text/plain": [
       "<Figure size 432x288 with 1 Axes>"
      ]
     },
     "metadata": {
      "needs_background": "light"
     },
     "output_type": "display_data"
    }
   ],
   "source": [
    "#畫圖\n",
    "plt.scatter(x,y)\n",
    "plt.plot(x, 1.2*x+0.8, 'r')"
   ]
  },
  {
   "cell_type": "markdown",
   "metadata": {},
   "source": [
    "#### add noise \n",
    "\n",
    "$$f(x) + \\varepsilon(x)$$\n"
   ]
  },
  {
   "cell_type": "code",
   "execution_count": 5,
   "metadata": {},
   "outputs": [
    {
     "name": "stdout",
     "output_type": "stream",
     "text": [
      "[0.48746208 0.43811647 0.9653582  1.19863886 2.26008564 0.95051697\n",
      " 1.2991777  0.99133161 2.0464174  2.25209665 2.2973146  3.11418437\n",
      " 2.44722347 2.33945796 1.66399247 2.14001794 3.0181498  2.58124174\n",
      " 2.77144206 1.73069032 3.1792446  3.00211383 2.84942515 3.39468402\n",
      " 4.76350575 3.15139949 4.4563189  4.34212656 4.56847087 4.25221579\n",
      " 4.13164329 4.32958845 4.17541349 4.43368158 4.63747683 5.25689701\n",
      " 4.51031964 4.70155707 4.37201134 6.00590022 5.8737538  5.26979226\n",
      " 5.21715736 5.74185641 5.85265131 5.53220366 6.17716035 7.48164204\n",
      " 5.8864975  7.45831828]\n"
     ]
    }
   ],
   "source": [
    "y = 1.2*x + 0.8 + 0.6*np.random.randn(50)\n",
    "print(y)"
   ]
  },
  {
   "cell_type": "code",
   "execution_count": 6,
   "metadata": {},
   "outputs": [
    {
     "data": {
      "text/plain": [
       "[<matplotlib.lines.Line2D at 0x20681f435e0>]"
      ]
     },
     "execution_count": 6,
     "metadata": {},
     "output_type": "execute_result"
    },
    {
     "data": {
      "image/png": "[encoded data removed]",
      "text/plain": [
       "<Figure size 432x288 with 1 Axes>"
      ]
     },
     "metadata": {
      "needs_background": "light"
     },
     "output_type": "display_data"
    }
   ],
   "source": [
    "plt.scatter(x,y)\n",
    "plt.plot(x, 1.2*x + 0.8, 'r')"
   ]
  },
  {
   "cell_type": "code",
   "execution_count": 7,
   "metadata": {},
   "outputs": [],
   "source": [
    "from sklearn.linear_model import LinearRegression\n",
    "regr = LinearRegression()"
   ]
  },
  {
   "cell_type": "code",
   "execution_count": 8,
   "metadata": {},
   "outputs": [
    {
     "data": {
      "text/plain": [
       "LinearRegression()"
      ]
     },
     "execution_count": 8,
     "metadata": {},
     "output_type": "execute_result"
    }
   ],
   "source": [
    "regr"
   ]
  },
  {
   "cell_type": "markdown",
   "metadata": {},
   "source": [
    "要求資料轉換<br>\n",
    "\n",
    "$$[x_1, x_2, \\ldots, x_{50}]$$\n",
    "\n",
    "==> \n",
    "\n",
    "$$[[x_1], [x_2], \\ldots, [x_{50}]]$$\n",
    "\n",
    "\n",
    "矩陣的概念"
   ]
  },
  {
   "cell_type": "code",
   "execution_count": 9,
   "metadata": {},
   "outputs": [
    {
     "name": "stdout",
     "output_type": "stream",
     "text": [
      "(50,)\n"
     ]
    },
    {
     "data": {
      "text/plain": [
       "(50, 1)"
      ]
     },
     "execution_count": 9,
     "metadata": {},
     "output_type": "execute_result"
    }
   ],
   "source": [
    "print(x.shape)\n",
    "X = x.reshape(-1,1)\n",
    "X.shape"
   ]
  },
  {
   "cell_type": "code",
   "execution_count": 10,
   "metadata": {},
   "outputs": [
    {
     "data": {
      "text/plain": [
       "LinearRegression()"
      ]
     },
     "execution_count": 10,
     "metadata": {},
     "output_type": "execute_result"
    }
   ],
   "source": [
    "regr.fit(X,y)"
   ]
  },
  {
   "cell_type": "code",
   "execution_count": 11,
   "metadata": {},
   "outputs": [
    {
     "name": "stdout",
     "output_type": "stream",
     "text": [
      "[0.75028519 0.86823105 0.98617692 1.10412278 1.22206865 1.34001451\n",
      " 1.45796037 1.57590624 1.6938521  1.81179797 1.92974383 2.0476897\n",
      " 2.16563556 2.28358142 2.40152729 2.51947315 2.63741902 2.75536488\n",
      " 2.87331075 2.99125661 3.10920247 3.22714834 3.3450942  3.46304007\n",
      " 3.58098593 3.6989318  3.81687766 3.93482352 4.05276939 4.17071525\n",
      " 4.28866112 4.40660698 4.52455285 4.64249871 4.76044457 4.87839044\n",
      " 4.9963363  5.11428217 5.23222803 5.3501739  5.46811976 5.58606562\n",
      " 5.70401149 5.82195735 5.93990322 6.05784908 6.17579495 6.29374081\n",
      " 6.41168667 6.52963254]\n"
     ]
    }
   ],
   "source": [
    "Y = regr.predict(X)\n",
    "print(Y)"
   ]
  },
  {
   "cell_type": "code",
   "execution_count": 12,
   "metadata": {},
   "outputs": [
    {
     "data": {
      "text/plain": [
       "{'copy_X': True,\n",
       " 'fit_intercept': True,\n",
       " 'n_jobs': None,\n",
       " 'normalize': 'deprecated',\n",
       " 'positive': False}"
      ]
     },
     "execution_count": 12,
     "metadata": {},
     "output_type": "execute_result"
    }
   ],
   "source": [
    "#了解你的訓練參數\n",
    "regr.get_params()"
   ]
  },
  {
   "cell_type": "code",
   "execution_count": 13,
   "metadata": {},
   "outputs": [
    {
     "name": "stdout",
     "output_type": "stream",
     "text": [
      "0.2823802653296578\n"
     ]
    },
    {
     "data": {
      "image/png": "[encoded data removed]",
      "text/plain": [
       "<Figure size 432x288 with 1 Axes>"
      ]
     },
     "metadata": {
      "needs_background": "light"
     },
     "output_type": "display_data"
    }
   ],
   "source": [
    "plt.scatter(x, y) #原本 \n",
    "plt.plot(x, Y, 'ro') #預測\n",
    "#calculate mse\n",
    "mse = np.sum((Y-y)**2) / len(y)\n",
    "print(mse)"
   ]
  },
  {
   "cell_type": "code",
   "execution_count": 14,
   "metadata": {},
   "outputs": [
    {
     "data": {
      "text/plain": [
       "array([1.15586947])"
      ]
     },
     "execution_count": 14,
     "metadata": {},
     "output_type": "execute_result"
    }
   ],
   "source": [
    "#Y=WX+b\n",
    "W=regr.coef_#斜率\n",
    "W\n",
    "\n"
   ]
  },
  {
   "cell_type": "code",
   "execution_count": 15,
   "metadata": {},
   "outputs": [
    {
     "data": {
      "text/plain": [
       "0.7502851882386801"
      ]
     },
     "execution_count": 15,
     "metadata": {},
     "output_type": "execute_result"
    }
   ],
   "source": [
    "b=regr.intercept_ #截距\n",
    "b"
   ]
  },
  {
   "cell_type": "code",
   "execution_count": 16,
   "metadata": {},
   "outputs": [
    {
     "data": {
      "text/plain": [
       "array([0.75028519, 0.86823105, 0.98617692, 1.10412278, 1.22206865,\n",
       "       1.34001451, 1.45796037, 1.57590624, 1.6938521 , 1.81179797,\n",
       "       1.92974383, 2.0476897 , 2.16563556, 2.28358142, 2.40152729,\n",
       "       2.51947315, 2.63741902, 2.75536488, 2.87331075, 2.99125661,\n",
       "       3.10920247, 3.22714834, 3.3450942 , 3.46304007, 3.58098593,\n",
       "       3.6989318 , 3.81687766, 3.93482352, 4.05276939, 4.17071525,\n",
       "       4.28866112, 4.40660698, 4.52455285, 4.64249871, 4.76044457,\n",
       "       4.87839044, 4.9963363 , 5.11428217, 5.23222803, 5.3501739 ,\n",
       "       5.46811976, 5.58606562, 5.70401149, 5.82195735, 5.93990322,\n",
       "       6.05784908, 6.17579495, 6.29374081, 6.41168667, 6.52963254])"
      ]
     },
     "execution_count": 16,
     "metadata": {},
     "output_type": "execute_result"
    }
   ],
   "source": [
    "Y"
   ]
  },
  {
   "cell_type": "code",
   "execution_count": 17,
   "metadata": {
    "scrolled": true
   },
   "outputs": [
    {
     "data": {
      "text/plain": [
       "array([4.2178936])"
      ]
     },
     "execution_count": 17,
     "metadata": {},
     "output_type": "execute_result"
    }
   ],
   "source": [
    "#可以將新的x資料帶入算出結果\n",
    "W*3+b"
   ]
  },
  {
   "cell_type": "code",
   "execution_count": 18,
   "metadata": {},
   "outputs": [
    {
     "data": {
      "text/plain": [
       "array([0.48746208, 0.43811647, 0.9653582 , 1.19863886, 2.26008564,\n",
       "       0.95051697, 1.2991777 , 0.99133161, 2.0464174 , 2.25209665,\n",
       "       2.2973146 , 3.11418437, 2.44722347, 2.33945796, 1.66399247,\n",
       "       2.14001794, 3.0181498 , 2.58124174, 2.77144206, 1.73069032,\n",
       "       3.1792446 , 3.00211383, 2.84942515, 3.39468402, 4.76350575,\n",
       "       3.15139949, 4.4563189 , 4.34212656, 4.56847087, 4.25221579,\n",
       "       4.13164329, 4.32958845, 4.17541349, 4.43368158, 4.63747683,\n",
       "       5.25689701, 4.51031964, 4.70155707, 4.37201134, 6.00590022,\n",
       "       5.8737538 , 5.26979226, 5.21715736, 5.74185641, 5.85265131,\n",
       "       5.53220366, 6.17716035, 7.48164204, 5.8864975 , 7.45831828])"
      ]
     },
     "execution_count": 18,
     "metadata": {},
     "output_type": "execute_result"
    }
   ],
   "source": [
    "y"
   ]
  },
  {
   "cell_type": "code",
   "execution_count": null,
   "metadata": {},
   "outputs": [],
   "source": []
  }
 ],
 "metadata": {
  "anaconda-cloud": {},
  "kernelspec": {
   "display_name": "Python 3 (ipykernel)",
   "language": "python",
   "name": "python3"
  },
  "language_info": {
   "codemirror_mode": {
    "name": "ipython",
    "version": 3
   },
   "file_extension": ".py",
   "mimetype": "text/x-python",
   "name": "python",
   "nbconvert_exporter": "python",
   "pygments_lexer": "ipython3",
   "version": "3.9.12"
  }
 },
 "nbformat": 4,
 "nbformat_minor": 1
}
